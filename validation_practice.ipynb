{
 "cells": [
  {
   "cell_type": "code",
   "execution_count": 1,
   "source": [
    "import numpy as np\n",
    "import matplotlib.pyplot as plt\n",
    "from sklearn.datasets import make_moons"
   ],
   "outputs": [],
   "metadata": {}
  },
  {
   "cell_type": "code",
   "execution_count": 20,
   "source": [
    "moons = make_moons(n_samples=200, noise=0.2, random_state=0)\n",
    "X = moons[0]\n",
    "y = moons[1]\n"
   ],
   "outputs": [
    {
     "output_type": "execute_result",
     "data": {
      "text/plain": [
       "array([[ 0.74346118,  0.46465633],\n",
       "       [ 1.65755662, -0.63203157],\n",
       "       [-0.15878875,  0.25584465],\n",
       "       [-1.088752  , -0.39694315],\n",
       "       [ 1.768052  , -0.25443213],\n",
       "       [ 1.95416454, -0.12850579],\n",
       "       [ 0.93694537,  0.36597075],\n",
       "       [ 0.88446589, -0.47595401],\n",
       "       [ 0.80950246,  0.3505231 ],\n",
       "       [ 1.2278091 , -0.64785108],\n",
       "       [-0.38454276,  0.50916381],\n",
       "       [ 0.09252135, -0.31618454],\n",
       "       [ 1.79531658, -0.32235591],\n",
       "       [ 1.43861749, -0.15796611],\n",
       "       [-0.82364866,  0.86822754],\n",
       "       [ 0.99633397,  0.1731019 ],\n",
       "       [ 0.66388701,  0.94659669],\n",
       "       [ 0.13229471, -0.26032619],\n",
       "       [ 0.2482245 ,  0.7860477 ],\n",
       "       [-1.00392102,  1.15207238],\n",
       "       [ 2.08208438,  0.00715606],\n",
       "       [ 0.87081342, -0.4366643 ],\n",
       "       [ 0.37268327,  1.01743002],\n",
       "       [ 1.26735927, -0.11813675],\n",
       "       [-0.13270154,  1.26653562],\n",
       "       [ 0.20331   ,  0.19519454],\n",
       "       [ 1.98373996, -0.11222315],\n",
       "       [ 1.82749513, -0.03085446],\n",
       "       [-0.03857867,  0.0838378 ],\n",
       "       [ 0.03351023,  0.63113817],\n",
       "       [ 0.94193283,  0.63204507],\n",
       "       [-0.39131894,  0.40925201],\n",
       "       [ 0.88357043, -0.35868845],\n",
       "       [-0.01141219,  0.30437635],\n",
       "       [ 0.75877114,  0.76057045],\n",
       "       [ 1.79414416,  0.28323389],\n",
       "       [ 0.56116634, -0.0330033 ],\n",
       "       [ 0.87161309,  0.01715969],\n",
       "       [-0.75191922,  0.63798317],\n",
       "       [-0.21911253,  0.49662864],\n",
       "       [ 0.63711933, -0.55537183],\n",
       "       [-0.25531442,  0.83953933],\n",
       "       [ 0.57753017,  0.64564015],\n",
       "       [ 0.15931878, -0.02835184],\n",
       "       [ 1.53296943, -0.36277826],\n",
       "       [-0.24648981,  1.09136047],\n",
       "       [ 1.16443301,  0.01495781],\n",
       "       [-0.70574528,  0.54883003],\n",
       "       [ 0.16919147, -0.30895665],\n",
       "       [ 1.0717818 , -0.40141988],\n",
       "       [-0.8970433 ,  0.87690996],\n",
       "       [ 0.4828491 , -0.21452374],\n",
       "       [ 2.25536302,  0.02862685],\n",
       "       [-0.62523133,  0.03868576],\n",
       "       [ 1.22821377, -0.50119159],\n",
       "       [ 0.84248307,  0.55728315],\n",
       "       [ 0.45857236,  0.5017019 ],\n",
       "       [ 0.98031957, -0.56811367],\n",
       "       [ 0.1059936 ,  0.90514125],\n",
       "       [-0.21582418,  1.03521642],\n",
       "       [ 0.06721632, -0.1649077 ],\n",
       "       [-1.07873435,  0.36644163],\n",
       "       [ 1.60172165, -0.37604995],\n",
       "       [ 1.02592325,  0.42143427],\n",
       "       [ 1.06739115, -0.38783511],\n",
       "       [-1.35462041,  0.28524762],\n",
       "       [-0.20784982,  1.09043495],\n",
       "       [ 1.61652485, -0.29469483],\n",
       "       [ 0.26375409,  0.91508367],\n",
       "       [-0.99805184,  0.62420544],\n",
       "       [ 0.62273618, -0.52804644],\n",
       "       [-1.0873102 ,  0.78128608],\n",
       "       [ 0.01262924, -0.59715374],\n",
       "       [-0.52953439,  0.69307316],\n",
       "       [ 0.78362442, -0.25844144],\n",
       "       [-0.94262451,  0.57258351],\n",
       "       [ 0.09048712,  0.0890939 ],\n",
       "       [ 0.99716574,  0.35017425],\n",
       "       [ 0.4630177 ,  0.86392418],\n",
       "       [ 0.71787709, -0.09708361],\n",
       "       [ 2.13330659,  0.11200406],\n",
       "       [-0.41467068,  0.92254691],\n",
       "       [ 0.6233932 , -0.69422694],\n",
       "       [ 2.04970274,  0.66368306],\n",
       "       [-0.00353234,  0.21487064],\n",
       "       [-0.27631969,  1.34161045],\n",
       "       [ 0.82262609, -0.02317445],\n",
       "       [-0.46610015,  0.98764879],\n",
       "       [ 0.64426474, -0.36209808],\n",
       "       [ 1.96682571,  0.2646737 ],\n",
       "       [ 0.71060915,  0.80990546],\n",
       "       [ 1.12820353,  0.4664342 ],\n",
       "       [ 1.99150162,  0.02534858],\n",
       "       [-0.66342048,  0.85301441],\n",
       "       [ 2.0436285 ,  0.24563453],\n",
       "       [ 1.77377397, -0.10513907],\n",
       "       [ 1.773464  , -0.34102513],\n",
       "       [ 0.66137686, -0.31314104],\n",
       "       [-1.15442774,  0.40574243],\n",
       "       [ 0.04167562, -0.07462092],\n",
       "       [ 1.40426435, -0.93206382],\n",
       "       [ 1.99317676,  0.48903983],\n",
       "       [ 0.17673342,  1.3178874 ],\n",
       "       [ 1.12344625, -0.09556327],\n",
       "       [-0.64018301,  0.75214137],\n",
       "       [ 0.17295579,  0.60135526],\n",
       "       [-0.97644617,  0.03612864],\n",
       "       [-0.56357758,  1.15774717],\n",
       "       [ 1.60440089, -0.35116358],\n",
       "       [ 0.13387667,  0.6944329 ],\n",
       "       [-0.59909677,  0.76903039],\n",
       "       [ 0.1023533 ,  1.09326207],\n",
       "       [-0.22047436,  1.28343927],\n",
       "       [-0.70416708,  0.30649274],\n",
       "       [ 0.95709601,  0.30502143],\n",
       "       [ 1.65936346, -0.70351567],\n",
       "       [ 0.18911691,  0.64887424],\n",
       "       [ 2.02773677,  0.25021451],\n",
       "       [ 0.6515764 , -0.40677494],\n",
       "       [ 0.55688998,  0.26120887],\n",
       "       [ 0.81816111,  0.78952806],\n",
       "       [-0.48367053,  0.43679813],\n",
       "       [-0.14739828,  0.22556193],\n",
       "       [ 0.11834786,  0.99156023],\n",
       "       [-0.25253387,  0.18776697],\n",
       "       [-0.93313522,  0.73385959],\n",
       "       [ 0.6975216 , -0.11832611],\n",
       "       [ 0.33332321,  0.14006592],\n",
       "       [ 1.06519327, -0.38867949],\n",
       "       [ 1.9369961 ,  0.63112161],\n",
       "       [ 1.05840957,  0.51858443],\n",
       "       [-0.50840939,  0.55259494],\n",
       "       [-1.32109805,  0.51437657],\n",
       "       [ 0.29449971, -0.26078938],\n",
       "       [ 1.33653621, -0.18005761],\n",
       "       [ 1.51241178,  0.11081331],\n",
       "       [ 1.01934807, -0.17993629],\n",
       "       [-1.13305483,  0.11109962],\n",
       "       [ 2.07463826,  0.51253705],\n",
       "       [ 0.73451679,  0.5346233 ],\n",
       "       [-0.12213442,  0.15292037],\n",
       "       [-0.0557186 ,  0.57286794],\n",
       "       [ 0.45046033,  1.09585861],\n",
       "       [-0.7204608 ,  1.01733354],\n",
       "       [-0.33698825,  0.89060661],\n",
       "       [ 1.0628775 ,  0.17231496],\n",
       "       [ 0.34005355,  0.32486358],\n",
       "       [ 1.24491552, -0.5137574 ],\n",
       "       [ 0.30966003,  1.16677531],\n",
       "       [-0.06114159, -0.02921072],\n",
       "       [ 0.48281721, -0.43196099],\n",
       "       [ 1.68734249, -0.6872367 ],\n",
       "       [ 0.80862106,  0.28415372],\n",
       "       [ 0.29809162,  0.82211432],\n",
       "       [ 0.8496547 , -0.30507345],\n",
       "       [-0.3802171 ,  0.88414623],\n",
       "       [ 1.32734432, -0.48056888],\n",
       "       [ 0.23337057,  0.10750568],\n",
       "       [ 0.68841773,  1.15068264],\n",
       "       [ 0.6779624 ,  0.78024482],\n",
       "       [ 0.3395913 , -0.02223857],\n",
       "       [ 1.30440877, -0.52950917],\n",
       "       [ 0.75307594,  0.8526869 ],\n",
       "       [ 1.4298847 , -0.21080222],\n",
       "       [ 0.55631903, -0.70781481],\n",
       "       [ 1.45384401,  0.12718529],\n",
       "       [ 0.3203754 ,  0.87271389],\n",
       "       [ 0.53148147, -0.27424077],\n",
       "       [ 1.51658699, -0.45069719],\n",
       "       [ 0.99826403, -0.80979075],\n",
       "       [ 0.63918299,  0.96606739],\n",
       "       [-1.2855903 ,  0.10677262],\n",
       "       [-1.07840959,  0.56402523],\n",
       "       [-0.57716798,  0.2942259 ],\n",
       "       [ 0.25403599, -0.00644002],\n",
       "       [ 0.91722632, -0.29657499],\n",
       "       [ 1.43380709,  0.69183071],\n",
       "       [-0.70851168,  0.49617855],\n",
       "       [-0.64683386,  0.46971252],\n",
       "       [ 0.30143461,  0.76398572],\n",
       "       [ 1.48069489, -0.3572808 ],\n",
       "       [-1.02663961,  0.41265823],\n",
       "       [ 1.89660871,  0.25413209],\n",
       "       [ 2.04251223, -0.46074593],\n",
       "       [ 1.92673019,  0.40817963],\n",
       "       [ 0.35766276,  1.0872811 ],\n",
       "       [ 0.1240315 ,  0.67672995],\n",
       "       [ 0.97332087, -0.70530678],\n",
       "       [-0.72894228,  0.44179419],\n",
       "       [-0.69863061,  0.77620293],\n",
       "       [-0.93516752,  0.43520803],\n",
       "       [ 0.45166927,  1.00185497],\n",
       "       [ 0.87629641,  0.28951999],\n",
       "       [ 0.88155818,  0.23925957],\n",
       "       [-0.07795147,  0.27995261],\n",
       "       [-0.56365899,  0.8918972 ],\n",
       "       [ 1.6049806 ,  0.13835516],\n",
       "       [ 0.27695668,  0.01210816],\n",
       "       [ 0.25919429,  1.04104213],\n",
       "       [ 1.5215205 , -0.1258923 ]])"
      ]
     },
     "metadata": {},
     "execution_count": 20
    }
   ],
   "metadata": {}
  },
  {
   "cell_type": "code",
   "execution_count": 5,
   "source": [
    "from matplotlib.colors import ListedColormap\n",
    "\n",
    "def plot_decision_boundary(model,X,y,margin=0.3):\n",
    "    _x1 = np.linspace(X[:,0].min()-margin, X[:,0].max()+margin,100)\n",
    "    _x2 = np.linspace(X[:,1].min()-margin, X[:,1].max()+margin,100)\n",
    "    x1,x2 = np.meshgrid(_x1, _x2)\n",
    "    X_new = np.c_[x1.ravel(),x2.ravel()]\n",
    "    y_pred = model.predict(X_new).reshape(x1.shape)\n",
    "    custom_cmap = ListedColormap(['midiumblue','orangered'])\n",
    "    plt.contourf(x1,x2,y_pred,alpha-0.3,cmap=custom_cmap)\n",
    "\n",
    "def plot_datasets(X,y):\n",
    "    plt.plot(X[:,0][y==0],X[:,1][y==0], \"bo\", ms=15)\n",
    "    plt.plot(X[:,0][y==1],X[:,1][y==1], \"r^\", ms=15)\n",
    "    plt.xlabel(\"$x_0$\",fontsize=30)\n",
    "    plt.ylabel(\"$y_0$\",fontsize=30,rotation=0)\n",
    "\n",
    "plt.figure(figsize=(12,8))\n",
    "plot_datasets(X,y)\n",
    "plt.show()\n",
    "\n",
    "\n",
    "\n"
   ],
   "outputs": [
    {
     "output_type": "display_data",
     "data": {
      "image/png": "[encoded data removed]",
      "text/plain": [
       "<Figure size 864x576 with 1 Axes>"
      ]
     },
     "metadata": {
      "needs_background": "light"
     }
    }
   ],
   "metadata": {}
  },
  {
   "cell_type": "code",
   "execution_count": 7,
   "source": [
    "from sklearn.linear_model import LogisticRegression\n",
    "from sklearn.tree import DecisionTreeClassifier\n",
    "from sklearn.model_selection import train_test_split\n",
    "from sklearn.model_selection import KFold,cross_val_score"
   ],
   "outputs": [],
   "metadata": {}
  },
  {
   "cell_type": "code",
   "execution_count": 17,
   "source": [
    "X_train,X_test,y_train,y_test = train_test_split(X,y,random_state=0)\n",
    "\n",
    "log_reg = LogisticRegression().fit(X_train,y_train)\n",
    "tree_clf = DecisionTreeClassifier().fit(X_train,y_train)\n",
    "\n",
    "print(log_reg.score(X_test,y_test))\n",
    "print(tree_clf.score(X_test,y_test))"
   ],
   "outputs": [
    {
     "output_type": "stream",
     "name": "stdout",
     "text": [
      "0.84\n",
      "0.98\n"
     ]
    }
   ],
   "metadata": {}
  },
  {
   "cell_type": "code",
   "execution_count": 29,
   "source": [
    "kfold = KFold(n_splits=5,shuffle=True,random_state=0)\n",
    "\n",
    "\n",
    "log_reg_score = cross_val_score(log_reg, X, y, cv=kfold)\n",
    "tree_clf_score = cross_val_score(tree_clf, X, y, cv=kfold)\n",
    "\n",
    "print(log_reg_score)\n",
    "print(tree_clf_score)"
   ],
   "outputs": [
    {
     "output_type": "stream",
     "name": "stdout",
     "text": [
      "[0.85  0.875 0.875 0.825 0.775]\n",
      "[0.975 0.95  0.95  0.95  0.9  ]\n"
     ]
    }
   ],
   "metadata": {}
  },
  {
   "cell_type": "code",
   "execution_count": 31,
   "source": [
    "print(log_reg_score.mean())\n",
    "print(tree_clf_score.mean())"
   ],
   "outputs": [
    {
     "output_type": "stream",
     "name": "stdout",
     "text": [
      "0.8400000000000001\n",
      "0.9450000000000001\n"
     ]
    }
   ],
   "metadata": {}
  },
  {
   "cell_type": "code",
   "execution_count": 32,
   "source": [
    "from sklearn.metrics import confusion_matrix"
   ],
   "outputs": [],
   "metadata": {}
  },
  {
   "cell_type": "code",
   "execution_count": 35,
   "source": [
    "y_pred_log_reg = log_reg.predict(X_test)\n",
    "y_pred_tree_clf = tree_clf.predict(X_test)\n",
    "\n",
    "cm_log_reg = confusion_matrix(y_test,y_pred_log_reg)\n",
    "cm_tree_clf = confusion_matrix(y_test,y_pred_tree_clf)\n",
    "print(cm_log_reg)\n",
    "print('\\n')\n",
    "print(cm_tree_clf)\n"
   ],
   "outputs": [
    {
     "output_type": "stream",
     "name": "stdout",
     "text": [
      "[[23  5]\n",
      " [ 3 19]]\n",
      "\n",
      "\n",
      "[[28  0]\n",
      " [ 1 21]]\n"
     ]
    }
   ],
   "metadata": {}
  },
  {
   "cell_type": "code",
   "execution_count": 37,
   "source": [
    "from sklearn.metrics import precision_score,recall_score,f1_score\n"
   ],
   "outputs": [],
   "metadata": {}
  },
  {
   "cell_type": "code",
   "execution_count": 39,
   "source": [
    "print('precision log_reg:\\n',precision_score(y_test,y_pred_log_reg))\n",
    "print('\\n')\n",
    "print('precision tree_clf:\\n',precision_score(y_test,y_pred_tree_clf))"
   ],
   "outputs": [
    {
     "output_type": "stream",
     "name": "stdout",
     "text": [
      "precision log_reg:\n",
      " 0.7916666666666666\n",
      "\n",
      "\n",
      "precision tree_clf:\n",
      " 1.0\n"
     ]
    }
   ],
   "metadata": {}
  },
  {
   "cell_type": "code",
   "execution_count": 40,
   "source": [
    "print('recall log_reg:\\n',recall_score(y_test,y_pred_log_reg))\n",
    "print('\\n')\n",
    "print('recall tree_clf:\\n',recall_score(y_test,y_pred_tree_clf))"
   ],
   "outputs": [
    {
     "output_type": "stream",
     "name": "stdout",
     "text": [
      "recall log_reg:\n",
      " 0.8636363636363636\n",
      "\n",
      "\n",
      "recall tree_clf:\n",
      " 0.9545454545454546\n"
     ]
    }
   ],
   "metadata": {}
  },
  {
   "cell_type": "code",
   "execution_count": 41,
   "source": [
    "print('f1_score log_reg:\\n',f1_score(y_test,y_pred_log_reg))\n",
    "print('\\n')\n",
    "print('f1_score tree_clf:\\n',f1_score(y_test,y_pred_tree_clf))"
   ],
   "outputs": [
    {
     "output_type": "stream",
     "name": "stdout",
     "text": [
      "f1_score log_reg:\n",
      " 0.8260869565217391\n",
      "\n",
      "\n",
      "f1_score tree_clf:\n",
      " 0.9767441860465117\n"
     ]
    }
   ],
   "metadata": {}
  },
  {
   "cell_type": "code",
   "execution_count": 42,
   "source": [
    "from sklearn.metrics import precision_recall_curve"
   ],
   "outputs": [],
   "metadata": {}
  },
  {
   "cell_type": "code",
   "execution_count": 45,
   "source": [
    "#適合率と再現率はトレードオフの関係にある（右上に行くほど良い）\n",
    "precision,recall,threshold = precision_recall_curve(y_test,y_pred_tree_clf)\n",
    "\n",
    "plt.figure(figsize=(12,8))\n",
    "plt.plot(precision,recall)\n",
    "plt.xlabel('Precision')\n",
    "plt.ylabel('Recall')\n",
    "plt.show()\n"
   ],
   "outputs": [
    {
     "output_type": "display_data",
     "data": {
      "image/png": "[encoded data removed]",
      "text/plain": [
       "<Figure size 864x576 with 1 Axes>"
      ]
     },
     "metadata": {
      "needs_background": "light"
     }
    }
   ],
   "metadata": {}
  },
  {
   "cell_type": "code",
   "execution_count": 48,
   "source": [
    "from mglearn.datasets import make_wave"
   ],
   "outputs": [],
   "metadata": {}
  },
  {
   "cell_type": "code",
   "execution_count": 50,
   "source": [
    "X, y = make_wave(n_samples=100)\n",
    "\n",
    "plt.figure(figsize=(12,8))\n",
    "plt.scatter(X,y)\n",
    "plt.xlabel('X')\n",
    "plt.ylabel('y')\n",
    "plt.show()\n",
    "\n"
   ],
   "outputs": [
    {
     "output_type": "display_data",
     "data": {
      "image/png": "[encoded data removed]",
      "text/plain": [
       "<Figure size 864x576 with 1 Axes>"
      ]
     },
     "metadata": {
      "needs_background": "light"
     }
    }
   ],
   "metadata": {}
  },
  {
   "cell_type": "code",
   "execution_count": 51,
   "source": [
    "from sklearn.linear_model import LinearRegression"
   ],
   "outputs": [],
   "metadata": {}
  },
  {
   "cell_type": "code",
   "execution_count": null,
   "source": [
    "X_train,X_test,y_train,y_test = train_test_split()"
   ],
   "outputs": [],
   "metadata": {}
  }
 ],
 "metadata": {
  "orig_nbformat": 4,
  "language_info": {
   "name": "python",
   "version": "3.8.8",
   "mimetype": "text/x-python",
   "codemirror_mode": {
    "name": "ipython",
    "version": 3
   },
   "pygments_lexer": "ipython3",
   "nbconvert_exporter": "python",
   "file_extension": ".py"
  },
  "kernelspec": {
   "name": "python3",
   "display_name": "Python 3.8.8 64-bit ('base': conda)"
  },
  "interpreter": {
   "hash": "dca0ade3e726a953b501b15e8e990130d2b7799f14cfd9f4271676035ebe5511"
  }
 },
 "nbformat": 4,
 "nbformat_minor": 2
}